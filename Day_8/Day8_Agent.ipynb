{
  "nbformat": 4,
  "nbformat_minor": 0,
  "metadata": {
    "colab": {
      "provenance": []
    },
    "kernelspec": {
      "name": "python3",
      "display_name": "Python 3"
    },
    "language_info": {
      "name": "python"
    }
  },
  "cells": [
    {
      "cell_type": "markdown",
      "source": [
        "Youtube\n"
      ],
      "metadata": {
        "id": "nu1lmj90aEqW"
      }
    },
    {
      "cell_type": "code",
      "execution_count": 27,
      "metadata": {
        "colab": {
          "base_uri": "https://localhost:8080/"
        },
        "id": "9xS_giVUXz9E",
        "outputId": "b1cb531c-23e2-40dc-bc57-ff2037ef89b3"
      },
      "outputs": [
        {
          "output_type": "stream",
          "name": "stdout",
          "text": [
            "Requirement already satisfied: langchain in /usr/local/lib/python3.11/dist-packages (0.3.16)\n",
            "Requirement already satisfied: langchain_groq in /usr/local/lib/python3.11/dist-packages (0.2.3)\n",
            "Requirement already satisfied: langchain_community in /usr/local/lib/python3.11/dist-packages (0.3.16)\n",
            "Requirement already satisfied: PyYAML>=5.3 in /usr/local/lib/python3.11/dist-packages (from langchain) (6.0.2)\n",
            "Requirement already satisfied: SQLAlchemy<3,>=1.4 in /usr/local/lib/python3.11/dist-packages (from langchain) (2.0.37)\n",
            "Requirement already satisfied: aiohttp<4.0.0,>=3.8.3 in /usr/local/lib/python3.11/dist-packages (from langchain) (3.11.11)\n",
            "Requirement already satisfied: langchain-core<0.4.0,>=0.3.32 in /usr/local/lib/python3.11/dist-packages (from langchain) (0.3.32)\n",
            "Requirement already satisfied: langchain-text-splitters<0.4.0,>=0.3.3 in /usr/local/lib/python3.11/dist-packages (from langchain) (0.3.5)\n",
            "Requirement already satisfied: langsmith<0.4,>=0.1.17 in /usr/local/lib/python3.11/dist-packages (from langchain) (0.3.1)\n",
            "Requirement already satisfied: numpy<2,>=1.22.4 in /usr/local/lib/python3.11/dist-packages (from langchain) (1.26.4)\n",
            "Requirement already satisfied: pydantic<3.0.0,>=2.7.4 in /usr/local/lib/python3.11/dist-packages (from langchain) (2.10.6)\n",
            "Requirement already satisfied: requests<3,>=2 in /usr/local/lib/python3.11/dist-packages (from langchain) (2.32.3)\n",
            "Requirement already satisfied: tenacity!=8.4.0,<10,>=8.1.0 in /usr/local/lib/python3.11/dist-packages (from langchain) (9.0.0)\n",
            "Requirement already satisfied: groq<1,>=0.4.1 in /usr/local/lib/python3.11/dist-packages (from langchain_groq) (0.15.0)\n",
            "Requirement already satisfied: dataclasses-json<0.7,>=0.5.7 in /usr/local/lib/python3.11/dist-packages (from langchain_community) (0.6.7)\n",
            "Requirement already satisfied: httpx-sse<0.5.0,>=0.4.0 in /usr/local/lib/python3.11/dist-packages (from langchain_community) (0.4.0)\n",
            "Requirement already satisfied: pydantic-settings<3.0.0,>=2.4.0 in /usr/local/lib/python3.11/dist-packages (from langchain_community) (2.7.1)\n",
            "Requirement already satisfied: aiohappyeyeballs>=2.3.0 in /usr/local/lib/python3.11/dist-packages (from aiohttp<4.0.0,>=3.8.3->langchain) (2.4.4)\n",
            "Requirement already satisfied: aiosignal>=1.1.2 in /usr/local/lib/python3.11/dist-packages (from aiohttp<4.0.0,>=3.8.3->langchain) (1.3.2)\n",
            "Requirement already satisfied: attrs>=17.3.0 in /usr/local/lib/python3.11/dist-packages (from aiohttp<4.0.0,>=3.8.3->langchain) (24.3.0)\n",
            "Requirement already satisfied: frozenlist>=1.1.1 in /usr/local/lib/python3.11/dist-packages (from aiohttp<4.0.0,>=3.8.3->langchain) (1.5.0)\n",
            "Requirement already satisfied: multidict<7.0,>=4.5 in /usr/local/lib/python3.11/dist-packages (from aiohttp<4.0.0,>=3.8.3->langchain) (6.1.0)\n",
            "Requirement already satisfied: propcache>=0.2.0 in /usr/local/lib/python3.11/dist-packages (from aiohttp<4.0.0,>=3.8.3->langchain) (0.2.1)\n",
            "Requirement already satisfied: yarl<2.0,>=1.17.0 in /usr/local/lib/python3.11/dist-packages (from aiohttp<4.0.0,>=3.8.3->langchain) (1.18.3)\n",
            "Requirement already satisfied: marshmallow<4.0.0,>=3.18.0 in /usr/local/lib/python3.11/dist-packages (from dataclasses-json<0.7,>=0.5.7->langchain_community) (3.26.0)\n",
            "Requirement already satisfied: typing-inspect<1,>=0.4.0 in /usr/local/lib/python3.11/dist-packages (from dataclasses-json<0.7,>=0.5.7->langchain_community) (0.9.0)\n",
            "Requirement already satisfied: anyio<5,>=3.5.0 in /usr/local/lib/python3.11/dist-packages (from groq<1,>=0.4.1->langchain_groq) (3.7.1)\n",
            "Requirement already satisfied: distro<2,>=1.7.0 in /usr/local/lib/python3.11/dist-packages (from groq<1,>=0.4.1->langchain_groq) (1.9.0)\n",
            "Requirement already satisfied: httpx<1,>=0.23.0 in /usr/local/lib/python3.11/dist-packages (from groq<1,>=0.4.1->langchain_groq) (0.28.1)\n",
            "Requirement already satisfied: sniffio in /usr/local/lib/python3.11/dist-packages (from groq<1,>=0.4.1->langchain_groq) (1.3.1)\n",
            "Requirement already satisfied: typing-extensions<5,>=4.10 in /usr/local/lib/python3.11/dist-packages (from groq<1,>=0.4.1->langchain_groq) (4.12.2)\n",
            "Requirement already satisfied: jsonpatch<2.0,>=1.33 in /usr/local/lib/python3.11/dist-packages (from langchain-core<0.4.0,>=0.3.32->langchain) (1.33)\n",
            "Requirement already satisfied: packaging<25,>=23.2 in /usr/local/lib/python3.11/dist-packages (from langchain-core<0.4.0,>=0.3.32->langchain) (24.2)\n",
            "Requirement already satisfied: orjson<4.0.0,>=3.9.14 in /usr/local/lib/python3.11/dist-packages (from langsmith<0.4,>=0.1.17->langchain) (3.10.15)\n",
            "Requirement already satisfied: requests-toolbelt<2.0.0,>=1.0.0 in /usr/local/lib/python3.11/dist-packages (from langsmith<0.4,>=0.1.17->langchain) (1.0.0)\n",
            "Requirement already satisfied: zstandard<0.24.0,>=0.23.0 in /usr/local/lib/python3.11/dist-packages (from langsmith<0.4,>=0.1.17->langchain) (0.23.0)\n",
            "Requirement already satisfied: annotated-types>=0.6.0 in /usr/local/lib/python3.11/dist-packages (from pydantic<3.0.0,>=2.7.4->langchain) (0.7.0)\n",
            "Requirement already satisfied: pydantic-core==2.27.2 in /usr/local/lib/python3.11/dist-packages (from pydantic<3.0.0,>=2.7.4->langchain) (2.27.2)\n",
            "Requirement already satisfied: python-dotenv>=0.21.0 in /usr/local/lib/python3.11/dist-packages (from pydantic-settings<3.0.0,>=2.4.0->langchain_community) (1.0.1)\n",
            "Requirement already satisfied: charset-normalizer<4,>=2 in /usr/local/lib/python3.11/dist-packages (from requests<3,>=2->langchain) (3.4.1)\n",
            "Requirement already satisfied: idna<4,>=2.5 in /usr/local/lib/python3.11/dist-packages (from requests<3,>=2->langchain) (3.10)\n",
            "Requirement already satisfied: urllib3<3,>=1.21.1 in /usr/local/lib/python3.11/dist-packages (from requests<3,>=2->langchain) (2.3.0)\n",
            "Requirement already satisfied: certifi>=2017.4.17 in /usr/local/lib/python3.11/dist-packages (from requests<3,>=2->langchain) (2024.12.14)\n",
            "Requirement already satisfied: greenlet!=0.4.17 in /usr/local/lib/python3.11/dist-packages (from SQLAlchemy<3,>=1.4->langchain) (3.1.1)\n",
            "Requirement already satisfied: httpcore==1.* in /usr/local/lib/python3.11/dist-packages (from httpx<1,>=0.23.0->groq<1,>=0.4.1->langchain_groq) (1.0.7)\n",
            "Requirement already satisfied: h11<0.15,>=0.13 in /usr/local/lib/python3.11/dist-packages (from httpcore==1.*->httpx<1,>=0.23.0->groq<1,>=0.4.1->langchain_groq) (0.14.0)\n",
            "Requirement already satisfied: jsonpointer>=1.9 in /usr/local/lib/python3.11/dist-packages (from jsonpatch<2.0,>=1.33->langchain-core<0.4.0,>=0.3.32->langchain) (3.0.0)\n",
            "Requirement already satisfied: mypy-extensions>=0.3.0 in /usr/local/lib/python3.11/dist-packages (from typing-inspect<1,>=0.4.0->dataclasses-json<0.7,>=0.5.7->langchain_community) (1.0.0)\n"
          ]
        }
      ],
      "source": [
        "!pip install langchain langchain_groq langchain_community"
      ]
    },
    {
      "cell_type": "code",
      "source": [
        "!pip install --upgrade --quiet  youtube_search"
      ],
      "metadata": {
        "id": "TLsFTVnmZHfe"
      },
      "execution_count": 28,
      "outputs": []
    },
    {
      "cell_type": "code",
      "source": [
        "from langchain_community.tools import YouTubeSearchTool"
      ],
      "metadata": {
        "id": "XE0kftMEZrCM"
      },
      "execution_count": 29,
      "outputs": []
    },
    {
      "cell_type": "code",
      "source": [
        "youtube = YouTubeSearchTool()"
      ],
      "metadata": {
        "id": "n5CCm-CxZugy"
      },
      "execution_count": 30,
      "outputs": []
    },
    {
      "cell_type": "code",
      "source": [
        "youtube.run(\"Mrbeast\")"
      ],
      "metadata": {
        "colab": {
          "base_uri": "https://localhost:8080/",
          "height": 36
        },
        "id": "h7OOA59_ZyO6",
        "outputId": "6101e547-a88c-4960-88ae-2d04d22d4d49"
      },
      "execution_count": 31,
      "outputs": [
        {
          "output_type": "execute_result",
          "data": {
            "text/plain": [
              "\"['https://www.youtube.com/watch?v=RwnN2FVaHmw&pp=ygUHTXJiZWFzdA%3D%3D', 'https://www.youtube.com/watch?v=7IKab3HcfFk&pp=ygUHTXJiZWFzdA%3D%3D']\""
            ],
            "application/vnd.google.colaboratory.intrinsic+json": {
              "type": "string"
            }
          },
          "metadata": {},
          "execution_count": 31
        }
      ]
    },
    {
      "cell_type": "code",
      "source": [
        "youtube.run(\"lex friedman,5\")"
      ],
      "metadata": {
        "colab": {
          "base_uri": "https://localhost:8080/",
          "height": 53
        },
        "id": "uUgpzhiRZ2c5",
        "outputId": "ef76235d-d7ce-43ce-ed48-617f1cfe557d"
      },
      "execution_count": 32,
      "outputs": [
        {
          "output_type": "execute_result",
          "data": {
            "text/plain": [
              "\"['https://www.youtube.com/watch?v=u321m25rKXc&pp=ygUMbGV4IGZyaWVkbWFu', 'https://www.youtube.com/watch?v=DyoVVSggPjY&pp=ygUMbGV4IGZyaWVkbWFu', 'https://www.youtube.com/watch?v=I94u4_Wb82E&pp=ygUMbGV4IGZyaWVkbWFu', 'https://www.youtube.com/watch?v=qCbfTN-caFI&pp=ygUMbGV4IGZyaWVkbWFu', 'https://www.youtube.com/watch?v=yhZAXXI83-4&pp=ygUMbGV4IGZyaWVkbWFu']\""
            ],
            "application/vnd.google.colaboratory.intrinsic+json": {
              "type": "string"
            }
          },
          "metadata": {},
          "execution_count": 32
        }
      ]
    },
    {
      "cell_type": "code",
      "source": [],
      "metadata": {
        "id": "V1cbDiD9Z6I-"
      },
      "execution_count": 32,
      "outputs": []
    },
    {
      "cell_type": "markdown",
      "source": [
        "Wikipedia\n"
      ],
      "metadata": {
        "id": "kpsnOsTbaH8F"
      }
    },
    {
      "cell_type": "code",
      "source": [
        "!pip install --upgrade --quiet  wikipedia"
      ],
      "metadata": {
        "id": "pJD0DLmcaKAg"
      },
      "execution_count": 33,
      "outputs": []
    },
    {
      "cell_type": "code",
      "source": [
        "from langchain_community.tools import WikipediaQueryRun\n",
        "from langchain_community.utilities import WikipediaAPIWrapper"
      ],
      "metadata": {
        "id": "4kuvtrhsaMGk"
      },
      "execution_count": 34,
      "outputs": []
    },
    {
      "cell_type": "code",
      "source": [
        "wikipedia = WikipediaQueryRun(api_wrapper=WikipediaAPIWrapper())"
      ],
      "metadata": {
        "id": "7SLT5Y9naQHs"
      },
      "execution_count": 35,
      "outputs": []
    },
    {
      "cell_type": "code",
      "source": [
        "wikipedia.run(\"Chatgpt\")"
      ],
      "metadata": {
        "colab": {
          "base_uri": "https://localhost:8080/",
          "height": 123
        },
        "id": "NelLehQAaR-n",
        "outputId": "9bcaa34d-cb39-44a1-f589-b78cf3ebcb25"
      },
      "execution_count": 36,
      "outputs": [
        {
          "output_type": "execute_result",
          "data": {
            "text/plain": [
              "'Page: ChatGPT\\nSummary: ChatGPT is a generative artificial intelligence chatbot developed by OpenAI and launched in 2022. It is currently based on the GPT-4o large language model (LLM). ChatGPT can generate human-like conversational responses and enables users to refine and steer a conversation towards a desired length, format, style, level of detail, and language. It is credited with accelerating the AI boom, which has led to ongoing rapid investment in and public attention to the field of artificial intelligence (AI). Some observers have raised concern about the potential of ChatGPT and similar programs to displace human intelligence, enable plagiarism, or fuel misinformation.\\nBy January 2023, ChatGPT had become what was then the fastest-growing consumer software application in history, gaining over 100 million users in two months and contributing to the growth of OpenAI\\'s current valuation of $86 billion. ChatGPT\\'s release spurred the release of competing products, including Gemini, Claude, Llama, Ernie, and Grok. Microsoft launched Copilot, initially based on OpenAI\\'s GPT-4. In May 2024, a partnership between Apple Inc. and OpenAI was announced, in which ChatGPT was integrated into the Apple Intelligence feature of Apple operating systems. As of July 2024, ChatGPT\\'s website is among the 10 most-visited websites globally.\\nChatGPT is built on OpenAI\\'s proprietary series of generative pre-trained transformer (GPT) models and is fine-tuned for conversational applications using a combination of supervised learning and reinforcement learning from human feedback. Successive user prompts and replies are considered at each conversation stage as context. ChatGPT was released as a freely available research preview, but due to its popularity, OpenAI now operates the service on a freemium model. Users on its free tier can access GPT-4o. The ChatGPT \"Plus\", \"Pro\", \"Team\", and \"Enterprise\" subscriptions provide additional features such as DALL-E 3 image generation, more capable AI models, and an increased usage limit.\\n\\n\\n\\nPage: ChatGPT in education\\nSummary: The usage of ChatGPT in education has sparked considerable debate and exploration. ChatGPT is a chatbot based on large language models (LLMs) that was released by OpenAI in November 2022. Educators\\' opinions vary widely; while some are skeptical about the benefits, many see them as valuable tools.\\nChatGPT serves multiple educational purposes, including providing topic overviews, generating ideas, and assisting in drafting. A 2023 study highlighted its greater acceptance among professors compared to students. Moreover, chatbots show promise in personalized tutoring.\\nEfforts to ban chatbots like ChatGPT in schools focus on preventing cheating, but enforcement faces challenges due to AI detection inaccuracies and widespread accessibility of chatbot technology. Banning could also hinder students\\' opportunities to learn effective technology usage, while straining teacher-student relationships.\\n\\n\\n\\nPage: OpenAI\\nSummary: OpenAI is an American artificial intelligence (AI) research organization founded in December 2015 and headquartered in San Francisco, California. Its stated mission is to develop \"safe and beneficial\" artificial general intelligence (AGI), which it defines as \"highly autonomous systems that outperform humans at most economically valuable work\". As a leading organization in the ongoing AI boom, OpenAI is known for the GPT family of large language models, the DALL-E series of text-to-image models, and a text-to-video model named Sora. Its release of ChatGPT in November 2022 has been credited with catalyzing widespread interest in generative AI.\\nThe organization consists of the non-profit OpenAI, Inc., registered in Delaware, and its for-profit subsidiary introduced in 2019, OpenAI Global, LLC. Microsoft owns roughly 49% of OpenAI\\'s equity, having invested US$13 billion. It also provides computing resources to OpenAI through its cloud platform, Microsoft Azure.\\nIn 2023 and 2024, O'"
            ],
            "application/vnd.google.colaboratory.intrinsic+json": {
              "type": "string"
            }
          },
          "metadata": {},
          "execution_count": 36
        }
      ]
    },
    {
      "cell_type": "code",
      "source": [],
      "metadata": {
        "id": "hL_Y7kOMaVFr"
      },
      "execution_count": 36,
      "outputs": []
    },
    {
      "cell_type": "markdown",
      "source": [
        "OpenWeatherMap"
      ],
      "metadata": {
        "id": "r4qGck3Bbph0"
      }
    },
    {
      "cell_type": "code",
      "source": [
        "pip install pyowm"
      ],
      "metadata": {
        "colab": {
          "base_uri": "https://localhost:8080/"
        },
        "id": "G2IXOe6bb3Q_",
        "outputId": "f2e8acc6-9460-4e1b-85d3-86a378fac642"
      },
      "execution_count": 68,
      "outputs": [
        {
          "output_type": "stream",
          "name": "stdout",
          "text": [
            "Requirement already satisfied: pyowm in /usr/local/lib/python3.11/dist-packages (3.3.0)\n",
            "Requirement already satisfied: requests<3,>=2.20.0 in /usr/local/lib/python3.11/dist-packages (from pyowm) (2.32.3)\n",
            "Requirement already satisfied: geojson<3,>=2.3.0 in /usr/local/lib/python3.11/dist-packages (from pyowm) (2.5.0)\n",
            "Requirement already satisfied: PySocks<2,>=1.7.1 in /usr/local/lib/python3.11/dist-packages (from pyowm) (1.7.1)\n",
            "Requirement already satisfied: charset-normalizer<4,>=2 in /usr/local/lib/python3.11/dist-packages (from requests<3,>=2.20.0->pyowm) (3.4.1)\n",
            "Requirement already satisfied: idna<4,>=2.5 in /usr/local/lib/python3.11/dist-packages (from requests<3,>=2.20.0->pyowm) (3.10)\n",
            "Requirement already satisfied: urllib3<3,>=1.21.1 in /usr/local/lib/python3.11/dist-packages (from requests<3,>=2.20.0->pyowm) (2.3.0)\n",
            "Requirement already satisfied: certifi>=2017.4.17 in /usr/local/lib/python3.11/dist-packages (from requests<3,>=2.20.0->pyowm) (2024.12.14)\n"
          ]
        }
      ]
    },
    {
      "cell_type": "code",
      "source": [
        "import os\n",
        "\n",
        "\n",
        "os.environ[\"OPENWEATHERMAP_API_KEY\"] = \"df936748669869fb0b65135ef3e67fff\"\n",
        "\n",
        "weather = OpenWeatherMapAPIWrapper()"
      ],
      "metadata": {
        "id": "BrNT85kjbrz3"
      },
      "execution_count": 70,
      "outputs": []
    },
    {
      "cell_type": "code",
      "source": [
        "weather_data = weather.run(\"Chennai,Tamilnadu\")\n",
        "print(weather_data)"
      ],
      "metadata": {
        "colab": {
          "base_uri": "https://localhost:8080/"
        },
        "id": "QjwwWN2kbvzN",
        "outputId": "ac252dd0-b1d4-4a85-c0ae-4265781396a1"
      },
      "execution_count": 71,
      "outputs": [
        {
          "output_type": "stream",
          "name": "stdout",
          "text": [
            "In Chennai,Tamilnadu, the current weather is as follows:\n",
            "Detailed status: haze\n",
            "Wind speed: 4.12 m/s, direction: 50°\n",
            "Humidity: 63%\n",
            "Temperature: \n",
            "  - Current: 28.81°C\n",
            "  - High: 28.99°C\n",
            "  - Low: 27.83°C\n",
            "  - Feels like: 31.16°C\n",
            "Rain: {}\n",
            "Heat index: None\n",
            "Cloud cover: 40%\n"
          ]
        }
      ]
    },
    {
      "cell_type": "code",
      "source": [],
      "metadata": {
        "id": "7wmIvaczbzaH"
      },
      "execution_count": 39,
      "outputs": []
    },
    {
      "cell_type": "markdown",
      "source": [
        "Groq Model\n"
      ],
      "metadata": {
        "id": "GTNSq7h4dlz2"
      }
    },
    {
      "cell_type": "code",
      "source": [
        "import os\n",
        "os.environ['GROQ_API_KEY'] = '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'\n"
      ],
      "metadata": {
        "id": "AXIQFIzldu6s"
      },
      "execution_count": 40,
      "outputs": []
    },
    {
      "cell_type": "code",
      "source": [
        "!pip install langchain_groq"
      ],
      "metadata": {
        "colab": {
          "base_uri": "https://localhost:8080/"
        },
        "id": "xElxPCW_eF2F",
        "outputId": "167b52b8-4892-40d8-e6c6-5fd191ee3df9"
      },
      "execution_count": 41,
      "outputs": [
        {
          "output_type": "stream",
          "name": "stdout",
          "text": [
            "Requirement already satisfied: langchain_groq in /usr/local/lib/python3.11/dist-packages (0.2.3)\n",
            "Requirement already satisfied: groq<1,>=0.4.1 in /usr/local/lib/python3.11/dist-packages (from langchain_groq) (0.15.0)\n",
            "Requirement already satisfied: langchain-core<0.4.0,>=0.3.29 in /usr/local/lib/python3.11/dist-packages (from langchain_groq) (0.3.32)\n",
            "Requirement already satisfied: anyio<5,>=3.5.0 in /usr/local/lib/python3.11/dist-packages (from groq<1,>=0.4.1->langchain_groq) (3.7.1)\n",
            "Requirement already satisfied: distro<2,>=1.7.0 in /usr/local/lib/python3.11/dist-packages (from groq<1,>=0.4.1->langchain_groq) (1.9.0)\n",
            "Requirement already satisfied: httpx<1,>=0.23.0 in /usr/local/lib/python3.11/dist-packages (from groq<1,>=0.4.1->langchain_groq) (0.28.1)\n",
            "Requirement already satisfied: pydantic<3,>=1.9.0 in /usr/local/lib/python3.11/dist-packages (from groq<1,>=0.4.1->langchain_groq) (2.10.6)\n",
            "Requirement already satisfied: sniffio in /usr/local/lib/python3.11/dist-packages (from groq<1,>=0.4.1->langchain_groq) (1.3.1)\n",
            "Requirement already satisfied: typing-extensions<5,>=4.10 in /usr/local/lib/python3.11/dist-packages (from groq<1,>=0.4.1->langchain_groq) (4.12.2)\n",
            "Requirement already satisfied: PyYAML>=5.3 in /usr/local/lib/python3.11/dist-packages (from langchain-core<0.4.0,>=0.3.29->langchain_groq) (6.0.2)\n",
            "Requirement already satisfied: jsonpatch<2.0,>=1.33 in /usr/local/lib/python3.11/dist-packages (from langchain-core<0.4.0,>=0.3.29->langchain_groq) (1.33)\n",
            "Requirement already satisfied: langsmith<0.4,>=0.1.125 in /usr/local/lib/python3.11/dist-packages (from langchain-core<0.4.0,>=0.3.29->langchain_groq) (0.3.1)\n",
            "Requirement already satisfied: packaging<25,>=23.2 in /usr/local/lib/python3.11/dist-packages (from langchain-core<0.4.0,>=0.3.29->langchain_groq) (24.2)\n",
            "Requirement already satisfied: tenacity!=8.4.0,<10.0.0,>=8.1.0 in /usr/local/lib/python3.11/dist-packages (from langchain-core<0.4.0,>=0.3.29->langchain_groq) (9.0.0)\n",
            "Requirement already satisfied: idna>=2.8 in /usr/local/lib/python3.11/dist-packages (from anyio<5,>=3.5.0->groq<1,>=0.4.1->langchain_groq) (3.10)\n",
            "Requirement already satisfied: certifi in /usr/local/lib/python3.11/dist-packages (from httpx<1,>=0.23.0->groq<1,>=0.4.1->langchain_groq) (2024.12.14)\n",
            "Requirement already satisfied: httpcore==1.* in /usr/local/lib/python3.11/dist-packages (from httpx<1,>=0.23.0->groq<1,>=0.4.1->langchain_groq) (1.0.7)\n",
            "Requirement already satisfied: h11<0.15,>=0.13 in /usr/local/lib/python3.11/dist-packages (from httpcore==1.*->httpx<1,>=0.23.0->groq<1,>=0.4.1->langchain_groq) (0.14.0)\n",
            "Requirement already satisfied: jsonpointer>=1.9 in /usr/local/lib/python3.11/dist-packages (from jsonpatch<2.0,>=1.33->langchain-core<0.4.0,>=0.3.29->langchain_groq) (3.0.0)\n",
            "Requirement already satisfied: orjson<4.0.0,>=3.9.14 in /usr/local/lib/python3.11/dist-packages (from langsmith<0.4,>=0.1.125->langchain-core<0.4.0,>=0.3.29->langchain_groq) (3.10.15)\n",
            "Requirement already satisfied: requests<3,>=2 in /usr/local/lib/python3.11/dist-packages (from langsmith<0.4,>=0.1.125->langchain-core<0.4.0,>=0.3.29->langchain_groq) (2.32.3)\n",
            "Requirement already satisfied: requests-toolbelt<2.0.0,>=1.0.0 in /usr/local/lib/python3.11/dist-packages (from langsmith<0.4,>=0.1.125->langchain-core<0.4.0,>=0.3.29->langchain_groq) (1.0.0)\n",
            "Requirement already satisfied: zstandard<0.24.0,>=0.23.0 in /usr/local/lib/python3.11/dist-packages (from langsmith<0.4,>=0.1.125->langchain-core<0.4.0,>=0.3.29->langchain_groq) (0.23.0)\n",
            "Requirement already satisfied: annotated-types>=0.6.0 in /usr/local/lib/python3.11/dist-packages (from pydantic<3,>=1.9.0->groq<1,>=0.4.1->langchain_groq) (0.7.0)\n",
            "Requirement already satisfied: pydantic-core==2.27.2 in /usr/local/lib/python3.11/dist-packages (from pydantic<3,>=1.9.0->groq<1,>=0.4.1->langchain_groq) (2.27.2)\n",
            "Requirement already satisfied: charset-normalizer<4,>=2 in /usr/local/lib/python3.11/dist-packages (from requests<3,>=2->langsmith<0.4,>=0.1.125->langchain-core<0.4.0,>=0.3.29->langchain_groq) (3.4.1)\n",
            "Requirement already satisfied: urllib3<3,>=1.21.1 in /usr/local/lib/python3.11/dist-packages (from requests<3,>=2->langsmith<0.4,>=0.1.125->langchain-core<0.4.0,>=0.3.29->langchain_groq) (2.3.0)\n"
          ]
        }
      ]
    },
    {
      "cell_type": "code",
      "source": [
        "from langchain_groq import ChatGroq\n",
        "llm = ChatGroq(\n",
        "    model=\"mixtral-8x7b-32768\",\n",
        "    temperature=0,\n",
        "    max_tokens=None,\n",
        "    timeout=None,\n",
        "    max_retries=2,\n",
        "    # other params...\n",
        ")"
      ],
      "metadata": {
        "id": "IB0t1yrydr6-"
      },
      "execution_count": 42,
      "outputs": []
    },
    {
      "cell_type": "code",
      "source": [
        "from langchain.agents import initialize_agent, AgentType, load_tools\n",
        "\n",
        "agent = initialize_agent(\n",
        "    tools=[youtube,wikipedia],\n",
        "    llm =llm,\n",
        "    verbose =True,\n",
        "    agent = AgentType.\n",
        "    CHAT_ZERO_SHOT_REACT_DESCRIPTION\n",
        ")"
      ],
      "metadata": {
        "id": "SliIiPN6eCJn"
      },
      "execution_count": 72,
      "outputs": []
    },
    {
      "cell_type": "code",
      "source": [
        "agent.run('get details of mrbeast and chatgpt')"
      ],
      "metadata": {
        "colab": {
          "base_uri": "https://localhost:8080/",
          "height": 1000
        },
        "id": "-QsSHxPBexsX",
        "outputId": "ae4e1461-83cd-426a-eb15-c425c2b837d3"
      },
      "execution_count": 73,
      "outputs": [
        {
          "output_type": "stream",
          "name": "stdout",
          "text": [
            "\n",
            "\n",
            "\u001b[1m> Entering new AgentExecutor chain...\u001b[0m\n",
            "\u001b[32;1m\u001b[1;3mQuestion: Get details of MrBeast and ChatGPT\n",
            "\n",
            "Thought: I need to get information about both MrBeast and ChatGPT. I will use Wikipedia to get information about them. I will look up MrBeast first, then ChatGPT.\n",
            "\n",
            "Action:\n",
            "```json\n",
            "{\n",
            "  \"action\": \"wikipedia\",\n",
            "  \"action_input\": \"MrBeast\"\n",
            "}\n",
            "```\n",
            "\u001b[0m\n",
            "Observation: \u001b[33;1m\u001b[1;3mPage: MrBeast\n",
            "Summary: James Stephen \"Jimmy\" Donaldson (born May 7, 1998), better known by his online alias MrBeast, is an American YouTuber, media personality, and businessman. He is known for his fast-paced and high-production YouTube videos, in which he often hosts elaborate challenges and donates large amounts of money. With over 350 million subscribers, he has the most subscribers of any YouTube channel and is the third-most-followed creator on TikTok with over 106.9 million followers. He also has over 63.9 million followers on Instagram and over 31.4 million on X (formerly Twitter).\n",
            "Donaldson was raised in Greenville, North Carolina. He began posting videos to YouTube in early 2012 under the handle MrBeast6000. His early content ranged from Let's Plays to \"videos estimating the wealth of other YouTubers\". He went viral in 2017 after his \"counting to 100,000\" video earned tens of thousands of views in just a few days. His videos have become increasingly grand and extravagant. Once his channel took off, Donaldson hired some childhood friends to co-run the brand. Donaldson also runs the YouTube channels Beast Reacts (formerly BeastHacks), MrBeast Gaming, MrBeast 2 (formerly MrBeast Shorts), and the philanthropy channel Beast Philanthropy.\n",
            "Donaldson is the founder of MrBeast Burger, Feastables, and a co-founder of Team Trees, a fundraiser for the Arbor Day Foundation that has raised over $24 million for its campaigns, and Lunchly, a food and snack brand similar to Lunchables. He also co-founded Team Seas, a fundraiser for Ocean Conservancy and The Ocean Cleanup that has raised over $30 million. Donaldson won the Creator of the Year award four years in a row at the Streamy Awards in 2020, 2021, 2022, and 2023; he also won the Favorite Male Creator award three times at the 2022, 2023, and 2024 Nickelodeon Kids' Choice Awards. In 2023, Time named him one of the world's 100 most influential people. He has ranked on the Forbes list for the highest-paid YouTube creator in 2022 and has an estimated net worth of $500 million.\n",
            "In September 2024, Donaldson was one of the subjects of a class action lawsuit that alleged widespread mistreatment, sexual harassment, and unpaid expenses and wages on his ongoing reality television series Beast Games.\n",
            "\n",
            "\n",
            "\n",
            "Page: MrBeast Burger\n",
            "Summary: MrBeast Burger is an American virtual restaurant founded and developed by internet personality Jimmy Donaldson (MrBeast), in partnership with Virtual Dining Concepts, LLC. There are virtual locations in North America and Europe, with plans to expand to more countries and increase the number of locations significantly.\n",
            "The chain features a menu consisting of various burgers, french fries, desserts, and canned beverages. Customers order food from a delivery app, which in turn is prepared at the brick-and-mortar locations of contracted restaurants.\n",
            "\n",
            "Page: Beast Games lawsuit\n",
            "Summary: On September 16, 2024, a class action lawsuit—on behalf of five anonymous contestants (labeled as Contestants 1 to 5 in the lawsuit) of the $100-million Beast Games series on Prime Video—was filed in the Los Angeles Superior Court against MrBeast (under his production company MrB2024, LLC), Off One's Base, LLC, Amazon Alternative, LLC, and 100 anonymous individuals.\n",
            "The complaint alleged widespread mistreatment of the Beast Games contestants, including sexual harassment, lack of medical care, inadequate food, and unpaid expenses and wages, as well as misrepresentations about the number of contestants on the show.\u001b[0m\n",
            "Thought:\u001b[32;1m\u001b[1;3mNow that I have the details about MrBeast, I will look up information about ChatGPT.\n",
            "\n",
            "Action:\n",
            "```json\n",
            "{\n",
            "  \"action\": \"wikipedia\",\n",
            "  \"action_input\": \"ChatGPT\"\n",
            "}\n",
            "```\n",
            "\n",
            "\u001b[0m\n",
            "Observation: \u001b[33;1m\u001b[1;3mPage: ChatGPT\n",
            "Summary: ChatGPT is a generative artificial intelligence chatbot developed by OpenAI and launched in 2022. It is currently based on the GPT-4o large language model (LLM). ChatGPT can generate human-like conversational responses and enables users to refine and steer a conversation towards a desired length, format, style, level of detail, and language. It is credited with accelerating the AI boom, which has led to ongoing rapid investment in and public attention to the field of artificial intelligence (AI). Some observers have raised concern about the potential of ChatGPT and similar programs to displace human intelligence, enable plagiarism, or fuel misinformation.\n",
            "By January 2023, ChatGPT had become what was then the fastest-growing consumer software application in history, gaining over 100 million users in two months and contributing to the growth of OpenAI's current valuation of $86 billion. ChatGPT's release spurred the release of competing products, including Gemini, Claude, Llama, Ernie, and Grok. Microsoft launched Copilot, initially based on OpenAI's GPT-4. In May 2024, a partnership between Apple Inc. and OpenAI was announced, in which ChatGPT was integrated into the Apple Intelligence feature of Apple operating systems. As of July 2024, ChatGPT's website is among the 10 most-visited websites globally.\n",
            "ChatGPT is built on OpenAI's proprietary series of generative pre-trained transformer (GPT) models and is fine-tuned for conversational applications using a combination of supervised learning and reinforcement learning from human feedback. Successive user prompts and replies are considered at each conversation stage as context. ChatGPT was released as a freely available research preview, but due to its popularity, OpenAI now operates the service on a freemium model. Users on its free tier can access GPT-4o. The ChatGPT \"Plus\", \"Pro\", \"Team\", and \"Enterprise\" subscriptions provide additional features such as DALL-E 3 image generation, more capable AI models, and an increased usage limit.\n",
            "\n",
            "\n",
            "\n",
            "Page: ChatGPT in education\n",
            "Summary: The usage of ChatGPT in education has sparked considerable debate and exploration. ChatGPT is a chatbot based on large language models (LLMs) that was released by OpenAI in November 2022. Educators' opinions vary widely; while some are skeptical about the benefits, many see them as valuable tools.\n",
            "ChatGPT serves multiple educational purposes, including providing topic overviews, generating ideas, and assisting in drafting. A 2023 study highlighted its greater acceptance among professors compared to students. Moreover, chatbots show promise in personalized tutoring.\n",
            "Efforts to ban chatbots like ChatGPT in schools focus on preventing cheating, but enforcement faces challenges due to AI detection inaccuracies and widespread accessibility of chatbot technology. Banning could also hinder students' opportunities to learn effective technology usage, while straining teacher-student relationships.\n",
            "\n",
            "\n",
            "\n",
            "Page: GPT-4o\n",
            "Summary: GPT-4o (\"o\" for \"omni\") is a multilingual, multimodal generative pre-trained transformer developed by OpenAI and released in May 2024. GPT-4o is free, but ChatGPT Plus subscribers have higher usage limits. It can process and generate text, images and audio. Its application programming interface (API) is faster and cheaper than its predecessor, GPT-4 Turbo.\u001b[0m\n",
            "Thought:\u001b[32;1m\u001b[1;3mNow that I have the details about both MrBeast and ChatGPT, I can provide the final answer.\n",
            "\n",
            "Final Answer: MrBeast, whose real name is James Stephen \"Jimmy\" Donaldson, is an American YouTuber, media personality, and businessman known for his elaborate challenges and philanthropy on his YouTube channel, which has over 350 million subscribers. He was born on May 7, 1998, and raised in Greenville, North Carolina. He has also founded several businesses, including MrBeast Burger, Feastables, and a co-founder of Team Trees and Lunchly. He has won several awards, including the Creator of the Year award four years in a row at the Streamy Awards and the Favorite Male Creator award three times at the Nickelodeon Kids' Choice Awards. He has an estimated net worth of $500 million.\n",
            "\n",
            "ChatGPT is a generative artificial intelligence chatbot developed by OpenAI and launched in 2022. It is based on the GPT-4o large language model and can generate human-like conversational responses. By January 2023, ChatGPT had gained over 100 million users in two months and contributed to the growth of OpenAI's current valuation of $86 billion. It is built on OpenAI's proprietary series of generative pre-trained transformer models and is fine-tuned for conversational applications using a combination of supervised learning and reinforcement learning from human feedback. ChatGPT is currently available as a freely available research preview, but due to its popularity, OpenAI now operates the service on a freemium model.\u001b[0m\n",
            "\n",
            "\u001b[1m> Finished chain.\u001b[0m\n"
          ]
        },
        {
          "output_type": "execute_result",
          "data": {
            "text/plain": [
              "'MrBeast, whose real name is James Stephen \"Jimmy\" Donaldson, is an American YouTuber, media personality, and businessman known for his elaborate challenges and philanthropy on his YouTube channel, which has over 350 million subscribers. He was born on May 7, 1998, and raised in Greenville, North Carolina. He has also founded several businesses, including MrBeast Burger, Feastables, and a co-founder of Team Trees and Lunchly. He has won several awards, including the Creator of the Year award four years in a row at the Streamy Awards and the Favorite Male Creator award three times at the Nickelodeon Kids\\' Choice Awards. He has an estimated net worth of $500 million.\\n\\nChatGPT is a generative artificial intelligence chatbot developed by OpenAI and launched in 2022. It is based on the GPT-4o large language model and can generate human-like conversational responses. By January 2023, ChatGPT had gained over 100 million users in two months and contributed to the growth of OpenAI\\'s current valuation of $86 billion. It is built on OpenAI\\'s proprietary series of generative pre-trained transformer models and is fine-tuned for conversational applications using a combination of supervised learning and reinforcement learning from human feedback. ChatGPT is currently available as a freely available research preview, but due to its popularity, OpenAI now operates the service on a freemium model.'"
            ],
            "application/vnd.google.colaboratory.intrinsic+json": {
              "type": "string"
            }
          },
          "metadata": {},
          "execution_count": 73
        }
      ]
    },
    {
      "cell_type": "code",
      "source": [
        "agent.run('hello!')"
      ],
      "metadata": {
        "colab": {
          "base_uri": "https://localhost:8080/",
          "height": 611
        },
        "id": "6nPUwKWZfDUv",
        "outputId": "f78f0341-ec73-43d1-b066-bb0a867311a2"
      },
      "execution_count": 54,
      "outputs": [
        {
          "output_type": "stream",
          "name": "stdout",
          "text": [
            "\n",
            "\n",
            "\u001b[1m> Entering new AgentExecutor chain...\u001b[0m\n",
            "\u001b[32;1m\u001b[1;3mThought: The user has greeted me, so I should respond in a friendly manner.\n",
            "\n",
            "Action:\n",
            "```\n",
            "{\n",
            "  \"action\": \"wikipedia\",\n",
            "  \"action_input\": \"Hello\"\n",
            "}\n",
            "```\n",
            "\u001b[0m"
          ]
        },
        {
          "output_type": "stream",
          "name": "stderr",
          "text": [
            "/usr/local/lib/python3.11/dist-packages/wikipedia/wikipedia.py:389: GuessedAtParserWarning: No parser was explicitly specified, so I'm using the best available HTML parser for this system (\"lxml\"). This usually isn't a problem, but if you run this code on another system, or in a different virtual environment, it may use a different parser and behave differently.\n",
            "\n",
            "The code that caused this warning is on line 389 of the file /usr/local/lib/python3.11/dist-packages/wikipedia/wikipedia.py. To get rid of this warning, pass the additional argument 'features=\"lxml\"' to the BeautifulSoup constructor.\n",
            "\n",
            "  lis = BeautifulSoup(html).find_all('li')\n"
          ]
        },
        {
          "output_type": "stream",
          "name": "stdout",
          "text": [
            "\n",
            "Observation: \u001b[33;1m\u001b[1;3mPage: Hello\n",
            "Summary: Hello is a salutation or greeting in the English language. It is first attested in writing from 1826.\n",
            "\n",
            "\n",
            "\n",
            "Page: \"Hello, World!\" program\n",
            "Summary: A \"Hello, World!\" program is usually a simple computer program that emits (or displays) to the screen (often the console) a message similar to \"Hello, World!\". A small piece of code in most general-purpose programming languages, this program is used to illustrate a language's basic syntax. Such program is often the first written by a student of a new programming language, but such a program can also be used as a sanity check to ensure that the computer software intended to compile or run source code is correctly installed, and that its operator understands how to use it.\n",
            "\n",
            "\u001b[0m\n",
            "Thought:\u001b[32;1m\u001b[1;3mThe user's greeting \"hello\" is a common English salutation. I don't need to provide a detailed explanation about it. Instead, I can respond with a simple \"Hello, how can I assist you today?\" to maintain the conversational flow.\n",
            "\n",
            "Final Answer: Hello, how can I assist you today?\u001b[0m\n",
            "\n",
            "\u001b[1m> Finished chain.\u001b[0m\n"
          ]
        },
        {
          "output_type": "execute_result",
          "data": {
            "text/plain": [
              "'Hello, how can I assist you today?'"
            ],
            "application/vnd.google.colaboratory.intrinsic+json": {
              "type": "string"
            }
          },
          "metadata": {},
          "execution_count": 54
        }
      ]
    },
    {
      "cell_type": "code",
      "source": [
        "open_weather = load_tools([\"openweathermap-api\"],llm)"
      ],
      "metadata": {
        "id": "DU2X3DrlldfD"
      },
      "execution_count": 74,
      "outputs": []
    },
    {
      "cell_type": "code",
      "source": [
        "from langchain.memory import ConversationBufferMemory\n",
        "memory = ConversationBufferMemory(memory_key=\"chat_history\", return_messages=True)\n",
        "conversational_agent = initialize_agent(\n",
        "    tools=[youtube,wikipedia]+open_weather,\n",
        "    llm=llm,\n",
        "    agent=AgentType.CHAT_CONVERSATIONAL_REACT_DESCRIPTION,\n",
        "    verbose=True,\n",
        "    memory=memory,\n",
        ")\n",
        "print(conversational_agent.run('Hi, my name is sugan and i live in tirunelveli'))\n",
        "print(conversational_agent.run('what is my name'))\n",
        "print(conversational_agent.run('get details of my city'))"
      ],
      "metadata": {
        "colab": {
          "base_uri": "https://localhost:8080/"
        },
        "id": "wjH9mgDBhzsH",
        "outputId": "9e56da49-cf35-4c3f-c14b-7683722295c1"
      },
      "execution_count": 76,
      "outputs": [
        {
          "output_type": "stream",
          "name": "stdout",
          "text": [
            "\n",
            "\n",
            "\u001b[1m> Entering new AgentExecutor chain...\u001b[0m\n",
            "\u001b[32;1m\u001b[1;3m```json\n",
            "{\n",
            "    \"action\": \"open_weather_map\",\n",
            "    \"action_input\": \"Tirunelveli\"\n",
            "}\n",
            "```\u001b[0m\n",
            "Observation: \u001b[38;5;200m\u001b[1;3mIn Tirunelveli, the current weather is as follows:\n",
            "Detailed status: overcast clouds\n",
            "Wind speed: 4.86 m/s, direction: 8°\n",
            "Humidity: 53%\n",
            "Temperature: \n",
            "  - Current: 27.59°C\n",
            "  - High: 27.59°C\n",
            "  - Low: 27.59°C\n",
            "  - Feels like: 28.24°C\n",
            "Rain: {}\n",
            "Heat index: None\n",
            "Cloud cover: 99%\u001b[0m\n",
            "Thought:\u001b[32;1m\u001b[1;3m```json\n",
            "{\n",
            "    \"action\": \"Final Answer\",\n",
            "    \"action_input\": \"In Tirunelveli, the current weather is overcast clouds with a wind speed of 4.86 m/s, a humidity of 53%, and a temperature of 27.59°C. The cloud cover is 99%.\"\n",
            "}\n",
            "```\u001b[0m\n",
            "\n",
            "\u001b[1m> Finished chain.\u001b[0m\n",
            "In Tirunelveli, the current weather is overcast clouds with a wind speed of 4.86 m/s, a humidity of 53%, and a temperature of 27.59°C. The cloud cover is 99%.\n",
            "\n",
            "\n",
            "\u001b[1m> Entering new AgentExecutor chain...\u001b[0m\n",
            "\u001b[32;1m\u001b[1;3m```json\n",
            "{\n",
            "    \"action\": \"Final Answer\",\n",
            "    \"action_input\": \"Your name is not provided in the input.\"\n",
            "}\n",
            "```\u001b[0m\n",
            "\n",
            "\u001b[1m> Finished chain.\u001b[0m\n",
            "Your name is not provided in the input.\n",
            "\n",
            "\n",
            "\u001b[1m> Entering new AgentExecutor chain...\u001b[0m\n",
            "\u001b[32;1m\u001b[1;3m```json\n",
            "{\n",
            "    \"action\": \"wikipedia\",\n",
            "    \"action_input\": \"Tirunelveli\"\n",
            "}\n",
            "```\u001b[0m\n",
            "Observation: \u001b[33;1m\u001b[1;3mPage: Tirunelveli\n",
            "Summary: Tirunelveli (Tamil: [tiɾɯnelʋeːli] ), also known as Nellai and historically (during British rule) as Tinnevelly, is a major city in the Indian state of Tamil Nadu. It is the administrative headquarters of the Tirunelveli District. It is the fourth-largest municipal corporation in the state after Chennai, Coimbatore, and Madurai. Tirunelveli is located 624 km (388 mi) southwest of the state capital Chennai, 58 km (36 mi) away from Thoothukudi, and 73 km (45 mi) from Kanyakumari. The downtown is located on the west bank of the Thamirabarani River; its twin Palayamkottai is on the east bank. Tirunelveli and its neighbourhood, Palayamkottai, have been called the Oxford of South India for their colleges. It has several important government offices.\n",
            "Tirunelveli is an ancient city, recorded to be more than two millennia old. It has been ruled at different times by the Early Pandyas, the Cheras, the Medieval Cholas and Later Cholas, the later Pandyas, the Vijayanagara Empire and the British. The Polygar War, involving Palaiyakkarars led by Veerapandiya Kattabomman and forces of the British East India Company, was waged on the city's outskirts from 1797 to 1801.\n",
            "Tirunelveli is administered by the Municipal Corporation, established on 1 June 1994 by the Municipal Corporation Act. The city covers an area of 189.9 km2 (73.3 sq mi), and holds a population of 473,637 in 2011. The total population after the inclusion of other municipalities is 968,984. Tirunelveli is well-connected by road and rail with the rest of Tamil Nadu and India. The nearest domestic airport is Thoothukudi Airport. The nearest international airports are Madurai International Airport and Thiruvananthapuram International Airport. The nearest seaport is Thoothukudi Port.\n",
            "Industries in Tirunelveli include administrative services, agricultural trading, tourism, banking, agricultural machinery, information technology and educational services. The city is an educational hub of southern India, with institutions such as Tirunelveli Medical College, Govt. Siddha Medical College, Veterinary College and Research Institute Tirunelveli, Tirunelveli Law College, Government College of Engineering, Anna University Regional Campus – Tirunelveli,  Manonmaniam Sundaranar University and much more.\n",
            "Tirunelveli has a number of historical monuments, with the Nellaiappar Temple being the most prominent. The city is also renowned throughout the state for a sweet called 'Irutu kadai halwa'.\n",
            "\n",
            "Page: Tirunelveli district\n",
            "Summary: Tirunelveli district is one of the 38 districts of Tamil Nadu state in India. It is the largest district in terms of area with Tirunelveli as its headquarters. The district was formed on 1 September 1790 by the British East India Company (on behalf of the British government) and comprised the present Tirunelveli and Thoothukudi, Tenkasi and parts of Virudhunagar and Ramanathapuram district. As of 2011, the undivided district (along with Tenkasi) had a population of 30,77,233.\n",
            "\n",
            "Page: Chennai Egmore–Tirunelveli Vande Bharat Express\n",
            "Summary: The 20665/20666 Chennai Egmore - Tirunelveli Vande Bharat Express (also known as Nellai Vande Bharat Express) is India's 28th Vande Bharat Express train, which is running across the state of Tamil Nadu by connecting the cities of Chennai, Villupuram, Tiruchirappalli, Dindigul, Madurai, Virudhunagar and terminating at Tirunelveli. This train was inaugurated on 24 September 2023, by Prime Minister Narendra Modi via video conference from New Delhi.\u001b[0m\n",
            "Thought:\u001b[32;1m\u001b[1;3m```json\n",
            "{\n",
            "    \"action\": \"Final Answer\",\n",
            "    \"action_input\": \"Tirunelveli is a major city in the Indian state of Tamil Nadu and the administrative headquarters of the Tirunelveli District. It is the fourth-largest municipal corporation in the state after Chennai, Coimbatore, and Madurai. The city is located on the west bank of the Thamirabarani River and has a population of 473,637 in 2011. Tirunelveli is an ancient city with a rich history, and is known for its educational institutions and historical monuments, including the Nellaiappar Temple. The city is also renowned for a sweet called 'Irutu kadai halwa'.\"\n",
            "}\n",
            "```\u001b[0m\n",
            "\n",
            "\u001b[1m> Finished chain.\u001b[0m\n",
            "Tirunelveli is a major city in the Indian state of Tamil Nadu and the administrative headquarters of the Tirunelveli District. It is the fourth-largest municipal corporation in the state after Chennai, Coimbatore, and Madurai. The city is located on the west bank of the Thamirabarani River and has a population of 473,637 in 2011. Tirunelveli is an ancient city with a rich history, and is known for its educational institutions and historical monuments, including the Nellaiappar Temple. The city is also renowned for a sweet called 'Irutu kadai halwa'.\n"
          ]
        }
      ]
    },
    {
      "cell_type": "code",
      "source": [
        "conversational_agent.run('what is the weather in my city')"
      ],
      "metadata": {
        "colab": {
          "base_uri": "https://localhost:8080/",
          "height": 539
        },
        "id": "YyXwlhmOh7-c",
        "outputId": "6563ecfb-1c9e-4e3e-c4a1-7276e81b1b7d"
      },
      "execution_count": 77,
      "outputs": [
        {
          "output_type": "stream",
          "name": "stdout",
          "text": [
            "\n",
            "\n",
            "\u001b[1m> Entering new AgentExecutor chain...\u001b[0m\n",
            "\u001b[32;1m\u001b[1;3m```json\n",
            "{\n",
            "    \"action\": \"open_weather_map\",\n",
            "    \"action_input\": \"Tirunelveli\"\n",
            "}\n",
            "```\u001b[0m\n",
            "Observation: \u001b[38;5;200m\u001b[1;3mIn Tirunelveli, the current weather is as follows:\n",
            "Detailed status: overcast clouds\n",
            "Wind speed: 4.86 m/s, direction: 8°\n",
            "Humidity: 53%\n",
            "Temperature: \n",
            "  - Current: 27.59°C\n",
            "  - High: 27.59°C\n",
            "  - Low: 27.59°C\n",
            "  - Feels like: 28.24°C\n",
            "Rain: {}\n",
            "Heat index: None\n",
            "Cloud cover: 99%\u001b[0m\n",
            "Thought:\u001b[32;1m\u001b[1;3m```json\n",
            "{\n",
            "    \"action\": \"Final Answer\",\n",
            "    \"action_input\": \"In Tirunelveli, the current weather is overcast clouds with a wind speed of 4.86 m/s, a humidity of 53%, and a temperature of 27.59°C. The cloud cover is 99%.\"\n",
            "}\n",
            "```\u001b[0m\n",
            "\n",
            "\u001b[1m> Finished chain.\u001b[0m\n"
          ]
        },
        {
          "output_type": "execute_result",
          "data": {
            "text/plain": [
              "'In Tirunelveli, the current weather is overcast clouds with a wind speed of 4.86 m/s, a humidity of 53%, and a temperature of 27.59°C. The cloud cover is 99%.'"
            ],
            "application/vnd.google.colaboratory.intrinsic+json": {
              "type": "string"
            }
          },
          "metadata": {},
          "execution_count": 77
        }
      ]
    },
    {
      "cell_type": "code",
      "source": [],
      "metadata": {
        "id": "vkRGNGbqiWkL"
      },
      "execution_count": null,
      "outputs": []
    }
  ]
}