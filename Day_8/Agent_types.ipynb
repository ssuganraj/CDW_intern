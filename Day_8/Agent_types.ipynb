{
  "nbformat": 4,
  "nbformat_minor": 0,
  "metadata": {
    "colab": {
      "provenance": []
    },
    "kernelspec": {
      "name": "python3",
      "display_name": "Python 3"
    },
    "language_info": {
      "name": "python"
    }
  },
  "cells": [
    {
      "cell_type": "code",
      "source": [
        "# !pip install langchain langchain-community langchain-groq"
      ],
      "metadata": {
        "colab": {
          "base_uri": "https://localhost:8080/"
        },
        "id": "iaD4QA3mbD4E",
        "outputId": "fa5d067e-1010-4995-f3ff-f49ba4ab2ccc"
      },
      "execution_count": null,
      "outputs": [
        {
          "output_type": "stream",
          "name": "stdout",
          "text": [
            "Requirement already satisfied: langchain in /usr/local/lib/python3.11/dist-packages (0.3.16)\n",
            "Requirement already satisfied: langchain-community in /usr/local/lib/python3.11/dist-packages (0.3.16)\n",
            "Requirement already satisfied: langchain-groq in /usr/local/lib/python3.11/dist-packages (0.2.3)\n",
            "Requirement already satisfied: PyYAML>=5.3 in /usr/local/lib/python3.11/dist-packages (from langchain) (6.0.2)\n",
            "Requirement already satisfied: SQLAlchemy<3,>=1.4 in /usr/local/lib/python3.11/dist-packages (from langchain) (2.0.37)\n",
            "Requirement already satisfied: aiohttp<4.0.0,>=3.8.3 in /usr/local/lib/python3.11/dist-packages (from langchain) (3.11.11)\n",
            "Requirement already satisfied: langchain-core<0.4.0,>=0.3.32 in /usr/local/lib/python3.11/dist-packages (from langchain) (0.3.32)\n",
            "Requirement already satisfied: langchain-text-splitters<0.4.0,>=0.3.3 in /usr/local/lib/python3.11/dist-packages (from langchain) (0.3.5)\n",
            "Requirement already satisfied: langsmith<0.4,>=0.1.17 in /usr/local/lib/python3.11/dist-packages (from langchain) (0.3.1)\n",
            "Requirement already satisfied: numpy<2,>=1.22.4 in /usr/local/lib/python3.11/dist-packages (from langchain) (1.26.4)\n",
            "Requirement already satisfied: pydantic<3.0.0,>=2.7.4 in /usr/local/lib/python3.11/dist-packages (from langchain) (2.10.5)\n",
            "Requirement already satisfied: requests<3,>=2 in /usr/local/lib/python3.11/dist-packages (from langchain) (2.32.3)\n",
            "Requirement already satisfied: tenacity!=8.4.0,<10,>=8.1.0 in /usr/local/lib/python3.11/dist-packages (from langchain) (9.0.0)\n",
            "Requirement already satisfied: dataclasses-json<0.7,>=0.5.7 in /usr/local/lib/python3.11/dist-packages (from langchain-community) (0.6.7)\n",
            "Requirement already satisfied: httpx-sse<0.5.0,>=0.4.0 in /usr/local/lib/python3.11/dist-packages (from langchain-community) (0.4.0)\n",
            "Requirement already satisfied: pydantic-settings<3.0.0,>=2.4.0 in /usr/local/lib/python3.11/dist-packages (from langchain-community) (2.7.1)\n",
            "Requirement already satisfied: groq<1,>=0.4.1 in /usr/local/lib/python3.11/dist-packages (from langchain-groq) (0.15.0)\n",
            "Requirement already satisfied: aiohappyeyeballs>=2.3.0 in /usr/local/lib/python3.11/dist-packages (from aiohttp<4.0.0,>=3.8.3->langchain) (2.4.4)\n",
            "Requirement already satisfied: aiosignal>=1.1.2 in /usr/local/lib/python3.11/dist-packages (from aiohttp<4.0.0,>=3.8.3->langchain) (1.3.2)\n",
            "Requirement already satisfied: attrs>=17.3.0 in /usr/local/lib/python3.11/dist-packages (from aiohttp<4.0.0,>=3.8.3->langchain) (24.3.0)\n",
            "Requirement already satisfied: frozenlist>=1.1.1 in /usr/local/lib/python3.11/dist-packages (from aiohttp<4.0.0,>=3.8.3->langchain) (1.5.0)\n",
            "Requirement already satisfied: multidict<7.0,>=4.5 in /usr/local/lib/python3.11/dist-packages (from aiohttp<4.0.0,>=3.8.3->langchain) (6.1.0)\n",
            "Requirement already satisfied: propcache>=0.2.0 in /usr/local/lib/python3.11/dist-packages (from aiohttp<4.0.0,>=3.8.3->langchain) (0.2.1)\n",
            "Requirement already satisfied: yarl<2.0,>=1.17.0 in /usr/local/lib/python3.11/dist-packages (from aiohttp<4.0.0,>=3.8.3->langchain) (1.18.3)\n",
            "Requirement already satisfied: marshmallow<4.0.0,>=3.18.0 in /usr/local/lib/python3.11/dist-packages (from dataclasses-json<0.7,>=0.5.7->langchain-community) (3.26.0)\n",
            "Requirement already satisfied: typing-inspect<1,>=0.4.0 in /usr/local/lib/python3.11/dist-packages (from dataclasses-json<0.7,>=0.5.7->langchain-community) (0.9.0)\n",
            "Requirement already satisfied: anyio<5,>=3.5.0 in /usr/local/lib/python3.11/dist-packages (from groq<1,>=0.4.1->langchain-groq) (3.7.1)\n",
            "Requirement already satisfied: distro<2,>=1.7.0 in /usr/local/lib/python3.11/dist-packages (from groq<1,>=0.4.1->langchain-groq) (1.9.0)\n",
            "Requirement already satisfied: httpx<1,>=0.23.0 in /usr/local/lib/python3.11/dist-packages (from groq<1,>=0.4.1->langchain-groq) (0.28.1)\n",
            "Requirement already satisfied: sniffio in /usr/local/lib/python3.11/dist-packages (from groq<1,>=0.4.1->langchain-groq) (1.3.1)\n",
            "Requirement already satisfied: typing-extensions<5,>=4.10 in /usr/local/lib/python3.11/dist-packages (from groq<1,>=0.4.1->langchain-groq) (4.12.2)\n",
            "Requirement already satisfied: jsonpatch<2.0,>=1.33 in /usr/local/lib/python3.11/dist-packages (from langchain-core<0.4.0,>=0.3.32->langchain) (1.33)\n",
            "Requirement already satisfied: packaging<25,>=23.2 in /usr/local/lib/python3.11/dist-packages (from langchain-core<0.4.0,>=0.3.32->langchain) (24.2)\n",
            "Requirement already satisfied: orjson<4.0.0,>=3.9.14 in /usr/local/lib/python3.11/dist-packages (from langsmith<0.4,>=0.1.17->langchain) (3.10.15)\n",
            "Requirement already satisfied: requests-toolbelt<2.0.0,>=1.0.0 in /usr/local/lib/python3.11/dist-packages (from langsmith<0.4,>=0.1.17->langchain) (1.0.0)\n",
            "Requirement already satisfied: zstandard<0.24.0,>=0.23.0 in /usr/local/lib/python3.11/dist-packages (from langsmith<0.4,>=0.1.17->langchain) (0.23.0)\n",
            "Requirement already satisfied: annotated-types>=0.6.0 in /usr/local/lib/python3.11/dist-packages (from pydantic<3.0.0,>=2.7.4->langchain) (0.7.0)\n",
            "Requirement already satisfied: pydantic-core==2.27.2 in /usr/local/lib/python3.11/dist-packages (from pydantic<3.0.0,>=2.7.4->langchain) (2.27.2)\n",
            "Requirement already satisfied: python-dotenv>=0.21.0 in /usr/local/lib/python3.11/dist-packages (from pydantic-settings<3.0.0,>=2.4.0->langchain-community) (1.0.1)\n",
            "Requirement already satisfied: charset-normalizer<4,>=2 in /usr/local/lib/python3.11/dist-packages (from requests<3,>=2->langchain) (3.4.1)\n",
            "Requirement already satisfied: idna<4,>=2.5 in /usr/local/lib/python3.11/dist-packages (from requests<3,>=2->langchain) (3.10)\n",
            "Requirement already satisfied: urllib3<3,>=1.21.1 in /usr/local/lib/python3.11/dist-packages (from requests<3,>=2->langchain) (2.3.0)\n",
            "Requirement already satisfied: certifi>=2017.4.17 in /usr/local/lib/python3.11/dist-packages (from requests<3,>=2->langchain) (2024.12.14)\n",
            "Requirement already satisfied: greenlet!=0.4.17 in /usr/local/lib/python3.11/dist-packages (from SQLAlchemy<3,>=1.4->langchain) (3.1.1)\n",
            "Requirement already satisfied: httpcore==1.* in /usr/local/lib/python3.11/dist-packages (from httpx<1,>=0.23.0->groq<1,>=0.4.1->langchain-groq) (1.0.7)\n",
            "Requirement already satisfied: h11<0.15,>=0.13 in /usr/local/lib/python3.11/dist-packages (from httpcore==1.*->httpx<1,>=0.23.0->groq<1,>=0.4.1->langchain-groq) (0.14.0)\n",
            "Requirement already satisfied: jsonpointer>=1.9 in /usr/local/lib/python3.11/dist-packages (from jsonpatch<2.0,>=1.33->langchain-core<0.4.0,>=0.3.32->langchain) (3.0.0)\n",
            "Requirement already satisfied: mypy-extensions>=0.3.0 in /usr/local/lib/python3.11/dist-packages (from typing-inspect<1,>=0.4.0->dataclasses-json<0.7,>=0.5.7->langchain-community) (1.0.0)\n"
          ]
        }
      ]
    },
    {
      "cell_type": "code",
      "source": [
        "import os\n",
        "os.environ[\"GROQ_API_KEY\"] = \"\"\n",
        "os.environ[\"OPENWEATHERMAP_API_KEY\"] = \"\""
      ],
      "metadata": {
        "id": "cKygH-bObza9"
      },
      "execution_count": null,
      "outputs": []
    },
    {
      "cell_type": "code",
      "source": [
        "from langchain_groq import ChatGroq\n",
        "from langchain.agents import initialize_agent, load_tools, AgentType"
      ],
      "metadata": {
        "id": "waTrtPU3croY"
      },
      "execution_count": null,
      "outputs": []
    },
    {
      "cell_type": "code",
      "source": [
        "# !pip install wikipedia youtube_search pyowm"
      ],
      "metadata": {
        "colab": {
          "base_uri": "https://localhost:8080/"
        },
        "id": "hV_gLweDdjCs",
        "outputId": "007be25c-84fb-47cc-9857-ca973d1defce"
      },
      "execution_count": null,
      "outputs": [
        {
          "output_type": "stream",
          "name": "stdout",
          "text": [
            "Requirement already satisfied: wikipedia in /usr/local/lib/python3.11/dist-packages (1.4.0)\n",
            "Requirement already satisfied: youtube_search in /usr/local/lib/python3.11/dist-packages (2.1.2)\n",
            "Requirement already satisfied: pyowm in /usr/local/lib/python3.11/dist-packages (3.3.0)\n",
            "Requirement already satisfied: beautifulsoup4 in /usr/local/lib/python3.11/dist-packages (from wikipedia) (4.12.3)\n",
            "Requirement already satisfied: requests<3.0.0,>=2.0.0 in /usr/local/lib/python3.11/dist-packages (from wikipedia) (2.32.3)\n",
            "Requirement already satisfied: geojson<3,>=2.3.0 in /usr/local/lib/python3.11/dist-packages (from pyowm) (2.5.0)\n",
            "Requirement already satisfied: PySocks<2,>=1.7.1 in /usr/local/lib/python3.11/dist-packages (from pyowm) (1.7.1)\n",
            "Requirement already satisfied: charset-normalizer<4,>=2 in /usr/local/lib/python3.11/dist-packages (from requests<3.0.0,>=2.0.0->wikipedia) (3.4.1)\n",
            "Requirement already satisfied: idna<4,>=2.5 in /usr/local/lib/python3.11/dist-packages (from requests<3.0.0,>=2.0.0->wikipedia) (3.10)\n",
            "Requirement already satisfied: urllib3<3,>=1.21.1 in /usr/local/lib/python3.11/dist-packages (from requests<3.0.0,>=2.0.0->wikipedia) (2.3.0)\n",
            "Requirement already satisfied: certifi>=2017.4.17 in /usr/local/lib/python3.11/dist-packages (from requests<3.0.0,>=2.0.0->wikipedia) (2024.12.14)\n",
            "Requirement already satisfied: soupsieve>1.2 in /usr/local/lib/python3.11/dist-packages (from beautifulsoup4->wikipedia) (2.6)\n"
          ]
        }
      ]
    },
    {
      "cell_type": "code",
      "source": [
        "# groq mistral llm model\n",
        "llm = ChatGroq(\n",
        "    model=\"mixtral-8x7b-32768\",\n",
        "    temperature=0,\n",
        "    max_tokens=None,\n",
        "    timeout=None,\n",
        "    max_retries=2,\n",
        "    cache=False\n",
        ")"
      ],
      "metadata": {
        "id": "9tjvbE7sbl9j"
      },
      "execution_count": null,
      "outputs": []
    },
    {
      "cell_type": "code",
      "source": [
        "# wikipedia tool\n",
        "from langchain_community.tools import WikipediaQueryRun\n",
        "from langchain_community.utilities import WikipediaAPIWrapper\n",
        "wikipedia = WikipediaQueryRun(api_wrapper=WikipediaAPIWrapper())\n",
        "wikipedia.run(\"Spiderman\")"
      ],
      "metadata": {
        "colab": {
          "base_uri": "https://localhost:8080/",
          "height": 139
        },
        "id": "OIRaBCHJdoyI",
        "outputId": "2234ddd3-54c5-4d3e-f7fc-5c96caa68a17"
      },
      "execution_count": null,
      "outputs": [
        {
          "output_type": "execute_result",
          "data": {
            "text/plain": [
              "'Page: Italian Spiderman\\nSummary: Italian Spiderman (intentionally spelled without the hyphen present in Spider-Man) is an Australian short film parody of Italian action–adventure films of the 1960s and 1970s, first released on YouTube in 2007. The parody purports to be a \"lost Italian film\" by Alrugo Entertainment, an Australian film-making collective formed by Dario Russo, Tait Wilson, David Ashby, Will Spartalis and Boris Repasky.\\nA trailer was released, followed by a full-length short feature composed of ten mini-episodes.\\n\\n\\n\\nPage: Spider-Man\\nSummary: Spider-Man is a superhero in American comic books published by Marvel Comics. Created by writer-editor Stan Lee and artist Steve Ditko, he first appeared in the anthology comic book Amazing Fantasy #15 (August 1962) in the Silver Age of Comic Books. He has been featured in comic books, television shows, films, video games, novels, and plays.\\nSpider-Man has the secret identity of Peter Benjamin Parker. Initially, Peter was depicted as a teenage high-school student and an orphan raised by his Aunt May and Uncle Ben in New York City after his parents, Richard and Mary Parker, died in a plane crash. Lee, Ditko, and later creators had the character deal with the struggles of adolescence and young adulthood and gave him many supporting characters, such as Flash Thompson, J. Jonah Jameson, and Harry Osborn; romantic interests Gwen Stacy, Mary Jane Watson, and the Black Cat; and enemies such as Doctor Octopus, the Green Goblin, and Venom. In his origin story, Peter gets his superhuman spider powers and abilities after being bitten by a radioactive spider. These powers include superhuman strength, speed, agility, reflexes, stamina, durability, coordination, and balance; clinging to surfaces and ceilings like a spider; and detecting danger with his precognition ability called \"spider-sense\". He builds wrist-mounted \"web-shooter\" devices that shoot artificial spider-webs of his own design, which he uses both for fighting and travel, or \"web swinging\" across the city. Peter Parker initially used his powers for personal gain, but after his Uncle Ben was killed by a thief that he could have stopped but did not, Peter began to use his powers to fight crime as Spider-Man.\\nBefore Spider-Man first appeared in the early 1960s, teenagers in superhero comic books were usually relegated to the protagonist\\'s sidekick role. The Spider-Man comic series broke ground by featuring Peter Parker, a high school student from the Queens borough of New York City, as Spider-Man\\'s secret identity, whose \"self-obsessions with rejection, inadequacy, and loneliness\" were issues to which young readers could relate. While Spider-Man was a quintessential sidekick, unlike previous teen heroes Bucky Barnes and Robin, Spider-Man had no superhero mentor like Captain America and Batman; he had learned the lesson for himself that \"with great power comes great responsibility\" —a line included in a text box in the final panel of the first Spider-Man\\'s origin story, but later retroactively attributed to the late Uncle Ben Parker.\\nMarvel has featured Spider-Man in several comic book series, the first and longest-lasting of which is The Amazing Spider-Man. Since his introduction, the main-continuity version of Peter has gone from a high school student to attending college to currently being somewhere in his late 20s. Peter has been a member of numerous superhero teams, most notably the Avengers and Fantastic Four. Doctor Octopus also took on the identity for a story arc spanning 2012–2014, following a body swap plot in which Peter appears to die. Marvel has also published comic books featuring alternate versions of Spider-Man, including Spider-Man 2099, which features the adventures of Miguel O\\'Hara, the Spider-Man of the future; Ultimate Spider-Man, which features the adventures of a teenage Peter Parker in the alternate universe; and Ultimate Comics: Spider-Man, which depicts a teenager named Miles Morales who takes up the man'"
            ],
            "application/vnd.google.colaboratory.intrinsic+json": {
              "type": "string"
            }
          },
          "metadata": {},
          "execution_count": 62
        }
      ]
    },
    {
      "cell_type": "code",
      "source": [
        "# youtube tool\n",
        "from langchain_community.tools import YouTubeSearchTool\n",
        "youtube = YouTubeSearchTool()\n",
        "youtube.run(\"Spiderman\")"
      ],
      "metadata": {
        "colab": {
          "base_uri": "https://localhost:8080/",
          "height": 35
        },
        "id": "btCQ8yCMggRV",
        "outputId": "764725f2-eb79-4cdf-f6f0-22c4252d3d6b"
      },
      "execution_count": null,
      "outputs": [
        {
          "output_type": "execute_result",
          "data": {
            "text/plain": [
              "\"['https://www.youtube.com/watch?v=bqSgbSmrJdk&pp=ygUJU3BpZGVybWFu', 'https://www.youtube.com/watch?v=ApXoWvfEYVU&pp=ygUJU3BpZGVybWFu']\""
            ],
            "application/vnd.google.colaboratory.intrinsic+json": {
              "type": "string"
            }
          },
          "metadata": {},
          "execution_count": 63
        }
      ]
    },
    {
      "cell_type": "code",
      "source": [
        "# openweatherapi tool\n",
        "open_weather = load_tools([\"openweathermap-api\"], llm)"
      ],
      "metadata": {
        "id": "NuWTtiTx8F5M"
      },
      "execution_count": null,
      "outputs": []
    },
    {
      "cell_type": "code",
      "execution_count": null,
      "metadata": {
        "colab": {
          "base_uri": "https://localhost:8080/"
        },
        "id": "GMuMEn6oaW3q",
        "outputId": "2aca0b0c-1415-42a2-8c0b-66021027ac9a"
      },
      "outputs": [
        {
          "output_type": "stream",
          "name": "stdout",
          "text": [
            "\n",
            "\n",
            "\u001b[1m> Entering new AgentExecutor chain...\u001b[0m\n",
            "\u001b[32;1m\u001b[1;3mThe user has greeted me. I don't need to perform any actions to answer this question.\n",
            "Thought: I will simply respond with a friendly greeting.\n",
            "Final Answer: Hello! How can I assist you today?\u001b[0m\n",
            "\n",
            "\u001b[1m> Finished chain.\u001b[0m\n",
            "Hello! How can I assist you today?\n",
            "\n",
            "\n",
            "\u001b[1m> Entering new AgentExecutor chain...\u001b[0m\n",
            "\u001b[32;1m\u001b[1;3mI need to look up information about Spiderman on Wikipedia.\n",
            "Action: wikipedia\n",
            "Action Input: Spiderman\n",
            "\u001b[0m\n",
            "Observation: \u001b[33;1m\u001b[1;3mPage: Italian Spiderman\n",
            "Summary: Italian Spiderman (intentionally spelled without the hyphen present in Spider-Man) is an Australian short film parody of Italian action–adventure films of the 1960s and 1970s, first released on YouTube in 2007. The parody purports to be a \"lost Italian film\" by Alrugo Entertainment, an Australian film-making collective formed by Dario Russo, Tait Wilson, David Ashby, Will Spartalis and Boris Repasky.\n",
            "A trailer was released, followed by a full-length short feature composed of ten mini-episodes.\n",
            "\n",
            "\n",
            "\n",
            "Page: Spider-Man\n",
            "Summary: Spider-Man is a superhero in American comic books published by Marvel Comics. Created by writer-editor Stan Lee and artist Steve Ditko, he first appeared in the anthology comic book Amazing Fantasy #15 (August 1962) in the Silver Age of Comic Books. He has been featured in comic books, television shows, films, video games, novels, and plays.\n",
            "Spider-Man has the secret identity of Peter Benjamin Parker. Initially, Peter was depicted as a teenage high-school student and an orphan raised by his Aunt May and Uncle Ben in New York City after his parents, Richard and Mary Parker, died in a plane crash. Lee, Ditko, and later creators had the character deal with the struggles of adolescence and young adulthood and gave him many supporting characters, such as Flash Thompson, J. Jonah Jameson, and Harry Osborn; romantic interests Gwen Stacy, Mary Jane Watson, and the Black Cat; and enemies such as Doctor Octopus, the Green Goblin, and Venom. In his origin story, Peter gets his superhuman spider powers and abilities after being bitten by a radioactive spider. These powers include superhuman strength, speed, agility, reflexes, stamina, durability, coordination, and balance; clinging to surfaces and ceilings like a spider; and detecting danger with his precognition ability called \"spider-sense\". He builds wrist-mounted \"web-shooter\" devices that shoot artificial spider-webs of his own design, which he uses both for fighting and travel, or \"web swinging\" across the city. Peter Parker initially used his powers for personal gain, but after his Uncle Ben was killed by a thief that he could have stopped but did not, Peter began to use his powers to fight crime as Spider-Man.\n",
            "Before Spider-Man first appeared in the early 1960s, teenagers in superhero comic books were usually relegated to the protagonist's sidekick role. The Spider-Man comic series broke ground by featuring Peter Parker, a high school student from the Queens borough of New York City, as Spider-Man's secret identity, whose \"self-obsessions with rejection, inadequacy, and loneliness\" were issues to which young readers could relate. While Spider-Man was a quintessential sidekick, unlike previous teen heroes Bucky Barnes and Robin, Spider-Man had no superhero mentor like Captain America and Batman; he had learned the lesson for himself that \"with great power comes great responsibility\" —a line included in a text box in the final panel of the first Spider-Man's origin story, but later retroactively attributed to the late Uncle Ben Parker.\n",
            "Marvel has featured Spider-Man in several comic book series, the first and longest-lasting of which is The Amazing Spider-Man. Since his introduction, the main-continuity version of Peter has gone from a high school student to attending college to currently being somewhere in his late 20s. Peter has been a member of numerous superhero teams, most notably the Avengers and Fantastic Four. Doctor Octopus also took on the identity for a story arc spanning 2012–2014, following a body swap plot in which Peter appears to die. Marvel has also published comic books featuring alternate versions of Spider-Man, including Spider-Man 2099, which features the adventures of Miguel O'Hara, the Spider-Man of the future; Ultimate Spider-Man, which features the adventures of a teenage Peter Parker in the alternate universe; and Ultimate Comics: Spider-Man, which depicts a teenager named Miles Morales who takes up the man\u001b[0m\n",
            "Thought:\u001b[32;1m\u001b[1;3mI now know that Spiderman is a superhero from the Marvel Comics universe. He was created by Stan Lee and Steve Ditko and first appeared in Amazing Fantasy #15 in August 1962. His real name is Peter Benjamin Parker and he gained his superhuman spider powers after being bitten by a radioactive spider. His powers include superhuman strength, speed, agility, and the ability to cling to surfaces and ceilings. He uses wrist-mounted \"web-shooter\" devices to shoot artificial spider-webs for fighting and travel. The phrase \"with great power comes great responsibility\" is closely associated with his character.\n",
            "\n",
            "Final Answer: Spiderman is a superhero from the Marvel Comics universe, known for his superhuman spider powers and the phrase \"with great power comes great responsibility\".\u001b[0m\n",
            "\n",
            "\u001b[1m> Finished chain.\u001b[0m\n",
            "Spiderman is a superhero from the Marvel Comics universe, known for his superhuman spider powers and the phrase \"with great power comes great responsibility\".\n",
            "\n",
            "\n",
            "\u001b[1m> Entering new AgentExecutor chain...\u001b[0m\n",
            "\u001b[32;1m\u001b[1;3mI need to use the youtube_search tool to find Spiderman videos.\n",
            "Action: youtube_search\n",
            "Action Input: Spiderman,5\u001b[0m\n",
            "Observation: \u001b[38;5;200m\u001b[1;3m['https://www.youtube.com/watch?v=bqSgbSmrJdk&pp=ygUJU3BpZGVybWFu', 'https://www.youtube.com/watch?v=ApXoWvfEYVU&pp=ygUJU3BpZGVybWFu', 'https://www.youtube.com/watch?v=RvgmSUfeWsU&pp=ygUJU3BpZGVybWFu', 'https://www.youtube.com/watch?v=LM-aY_FwQdk&pp=ygUJU3BpZGVybWFu', 'https://www.youtube.com/watch?v=3Gs5UYIkYo4&pp=ygUJU3BpZGVybWFu']\u001b[0m\n",
            "Thought:\u001b[32;1m\u001b[1;3mI now have a list of Spiderman video URLs from the youtube\\_search tool.\n",
            "Final Answer: Here are some Spiderman videos:\n",
            "\n",
            "1. <https://www.youtube.com/watch?v=bqSgbSmrJdk&pp=ygUJU3BpZGVybWFu>\n",
            "2. <https://www.youtube.com/watch?v=ApXoWvfEYVU&pp=ygUJU3BpZGVybWFu>\n",
            "3. <https://www.youtube.com/watch?v=RvgmSUfeWsU&pp=ygUJU3BpZGVybWFu>\n",
            "4. <https://www.youtube.com/watch?v=LM-aY_FwQdk&pp=ygUJU3BpZGVybWFu>\n",
            "5. <https://www.youtube.com/watch?v=3Gs5UYIkYo4&pp=ygUJU3BpZGVybWFu>\u001b[0m\n",
            "\n",
            "\u001b[1m> Finished chain.\u001b[0m\n",
            "Here are some Spiderman videos:\n",
            "\n",
            "1. <https://www.youtube.com/watch?v=bqSgbSmrJdk&pp=ygUJU3BpZGVybWFu>\n",
            "2. <https://www.youtube.com/watch?v=ApXoWvfEYVU&pp=ygUJU3BpZGVybWFu>\n",
            "3. <https://www.youtube.com/watch?v=RvgmSUfeWsU&pp=ygUJU3BpZGVybWFu>\n",
            "4. <https://www.youtube.com/watch?v=LM-aY_FwQdk&pp=ygUJU3BpZGVybWFu>\n",
            "5. <https://www.youtube.com/watch?v=3Gs5UYIkYo4&pp=ygUJU3BpZGVybWFu>\n",
            "\n",
            "\n",
            "\u001b[1m> Entering new AgentExecutor chain...\u001b[0m\n",
            "\u001b[32;1m\u001b[1;3mTo answer this question, I need to use the open_weather_map tool with \"Chennai,IN\" as the input.\n",
            "\n",
            "Action: open_weather_map\n",
            "Action Input: Chennai,IN\u001b[0m\n",
            "Observation: \u001b[36;1m\u001b[1;3mIn Chennai,IN, the current weather is as follows:\n",
            "Detailed status: mist\n",
            "Wind speed: 1.03 m/s, direction: 0°\n",
            "Humidity: 80%\n",
            "Temperature: \n",
            "  - Current: 25.28°C\n",
            "  - High: 25.59°C\n",
            "  - Low: 23.9°C\n",
            "  - Feels like: 25.95°C\n",
            "Rain: {}\n",
            "Heat index: None\n",
            "Cloud cover: 40%\u001b[0m\n",
            "Thought:\u001b[32;1m\u001b[1;3mI now know the final answer\n",
            "Final Answer: In Chennai, IN, the current weather is mist with a wind speed of 1.03 m/s, a humidity of 80%, and a temperature of 25.28°C. The feels like temperature is 25.95°C and the cloud cover is 40%.\u001b[0m\n",
            "\n",
            "\u001b[1m> Finished chain.\u001b[0m\n"
          ]
        }
      ],
      "source": [
        "all_tools = open_weather + [wikipedia,youtube]\n",
        "agent = initialize_agent(tools=all_tools, llm=llm, agent=AgentType.ZERO_SHOT_REACT_DESCRIPTION, verbose=True, handle_parsing_errors=True)\n",
        "output_1 = agent.run(\"Hi\")\n",
        "print(output_1)\n",
        "output_2 = agent.run(\"Tell me about spiderman\")\n",
        "print(output_2)\n",
        "output_3 = agent.run(\"Get some spiderman videos\")\n",
        "print(output_3)\n",
        "output_4 = agent.run(\"What is the weather in chennai?\")"
      ]
    },
    {
      "cell_type": "code",
      "source": [
        "print(agent.run(\"Hi, My name is charan!\"))\n",
        "print(agent.run(\"What is my name\"))"
      ],
      "metadata": {
        "colab": {
          "base_uri": "https://localhost:8080/"
        },
        "id": "gyPL8cz69hFk",
        "outputId": "9aa6594b-aeb2-4837-be67-efba10de77e7"
      },
      "execution_count": null,
      "outputs": [
        {
          "output_type": "stream",
          "name": "stdout",
          "text": [
            "\n",
            "\n",
            "\u001b[1m> Entering new AgentExecutor chain...\u001b[0m\n",
            "\u001b[32;1m\u001b[1;3mThe user has introduced themselves. There is no need for me to take any action as this question does not require me to find any information.\n",
            "Thought: I will simply greet the user back.\n",
            "Final Answer: Hello Charan! It's nice to meet you.\u001b[0m\n",
            "\n",
            "\u001b[1m> Finished chain.\u001b[0m\n",
            "Hello Charan! It's nice to meet you.\n",
            "\n",
            "\n",
            "\u001b[1m> Entering new AgentExecutor chain...\u001b[0m\n",
            "\u001b[32;1m\u001b[1;3mI don't have access to personal data about users, so I cannot provide the name of the user. I will provide a generic response instead.\n",
            "\n",
            "Final Answer: I'm an AI language model, and I don't have personal data about users, so I cannot provide your name.\u001b[0m\n",
            "\n",
            "\u001b[1m> Finished chain.\u001b[0m\n",
            "I'm an AI language model, and I don't have personal data about users, so I cannot provide your name.\n"
          ]
        }
      ]
    },
    {
      "cell_type": "code",
      "source": [
        "from langchain.memory import ConversationBufferMemory\n",
        "memory = ConversationBufferMemory(memory_key=\"chat_history\")\n",
        "conversational_agent = initialize_agent(\n",
        "    tools=all_tools,\n",
        "    agent=AgentType.CONVERSATIONAL_REACT_DESCRIPTION,\n",
        "    llm=llm,\n",
        "    verbose=True,\n",
        "    handle_parsing_errors=True,\n",
        "    memory=memory\n",
        ")\n",
        "print(conversational_agent.run(\"Hi, My name is charan and I live in chennai!\"))\n",
        "print(conversational_agent.run(\"What is my name\"))\n",
        "print(conversational_agent.run(\"Get details about my city\"))"
      ],
      "metadata": {
        "colab": {
          "base_uri": "https://localhost:8080/"
        },
        "id": "4p3souRk-Ijp",
        "outputId": "4104646e-4ccf-42bb-906d-3adc47acc17c"
      },
      "execution_count": null,
      "outputs": [
        {
          "output_type": "stream",
          "name": "stdout",
          "text": [
            "\n",
            "\n",
            "\u001b[1m> Entering new AgentExecutor chain...\u001b[0m\n",
            "\u001b[32;1m\u001b[1;3mThought: Do I need to use a tool? No\n",
            "AI: Hello Charan! It's nice to meet you. I'm here to help with any questions or topics you'd like to discuss. Since you mentioned that you live in Chennai, would you like to know the current weather there?\u001b[0m\n",
            "\n",
            "\u001b[1m> Finished chain.\u001b[0m\n",
            "Hello Charan! It's nice to meet you. I'm here to help with any questions or topics you'd like to discuss. Since you mentioned that you live in Chennai, would you like to know the current weather there?\n",
            "\n",
            "\n",
            "\u001b[1m> Entering new AgentExecutor chain...\u001b[0m\n",
            "\u001b[32;1m\u001b[1;3mThought: Do I need to use a tool? No\n",
            "AI: Your name is Charan, as you mentioned earlier in our conversation.\u001b[0m\n",
            "\n",
            "\u001b[1m> Finished chain.\u001b[0m\n",
            "Your name is Charan, as you mentioned earlier in our conversation.\n",
            "\n",
            "\n",
            "\u001b[1m> Entering new AgentExecutor chain...\u001b[0m\n",
            "\u001b[32;1m\u001b[1;3mThought: Do I need to use a tool? Yes\n",
            "Action: wikipedia\n",
            "Action Input: Chennai\n",
            "\u001b[0m\n",
            "Observation: \u001b[33;1m\u001b[1;3mPage: Chennai\n",
            "Summary: Chennai ( ; Tamil: [ˈt͡ɕenːaɪ̯], ISO: Ceṉṉai), formerly known as Madras, is the capital and largest city of Tamil Nadu, the southernmost state of India. It is located on the Coromandel Coast of the Bay of Bengal. According to the 2011 Indian census, Chennai is the sixth-most populous city in India and forms the fourth-most populous urban agglomeration. Incorporated in 1688, the Greater Chennai Corporation is the oldest municipal corporation in India and the second oldest in the world after London.\n",
            "Historically, the region was part of the Chola, Pandya, Pallava and Vijayanagara kingdoms during various eras. The coastal land which then contained the fishing village Madrasapattinam, was purchased by the British East India Company from the Nayak ruler Chennapa Nayaka in the 17th century. The British garrison established the Madras city and port and built Fort St. George, the first British fortress in India. The city was made the winter capital of the Madras Presidency, a colonial province of the British Raj in the Indian subcontinent. After India gained independence in 1947, Madras continued as the capital city of the Madras State and present-day Tamil Nadu. The city was officially renamed as Chennai in 1996.\n",
            "The city is coterminous with Chennai district, which together with the adjoining suburbs constitutes the Chennai Metropolitan Area, the 35th-largest urban area in the world by population and one of the largest metropolitan economies of India. Chennai has the fifth-largest urban economy and the third-largest expatriate population in India. Known as the gateway to South India, Chennai is amongst the most-visited Indian cities by international tourists and was ranked 36th among the most-visited cities in the world in 2019 by Euromonitor. Ranked as a beta-level city in the Global Cities Index, it was ranked as the second most safest city in India by National Crime Records Bureau in 2023.\n",
            "Chennai is a major centre for medical tourism and is termed \"India's health capital\". Chennai houses a major portion of India's automobile industry, hence the name \"Detroit of India\". It was the only South Asian city to be ranked among National Geographic's \"Top 10 food cities\" in 2015 and ranked ninth on Lonely Planet's best cosmopolitan cities in the world. In October 2017, Chennai was added to the UNESCO Creative Cities Network (UCCN) list. It is a major film production centre and home to the Tamil-language film industry.\n",
            "\n",
            "Page: Areas of Chennai\n",
            "Summary: The city of Chennai is classified into three regions: North Chennai, Central Chennai and South Chennai. It is further divided into 15 zones, consisting of 200 wards.\n",
            "\n",
            "Page: Chennai Express\n",
            "Summary: Chennai Express is a 2013 Indian Hindi-language action comedy film directed by Rohit Shetty and produced by UTV Motion Pictures and Red Chillies Entertainment. It stars Shah Rukh Khan, Deepika Padukone and with Nikitin Dheer and Sathyaraj in supporting roles. The film revolves around Rahul Mithaiwala, a businessman who accidentally boards the eponymous train and journeys from Mumbai to Rameswaram with the daughter of an influential crimeboss.\n",
            "The first planned collaboration between Khan and Shetty was a remake of Angoor (1982). The script of Chennai Express, which was initially written as a backup project for Khan, was chosen instead. Conceived as a \"commercial romance\", the film was originally titled Ready Steady Po. Filming began in Mehboob Studio in October 2012 and was completed by May 2013. A large part of the film was set in Ooty, for which sets were constructed in Wai and also in Ramoji Film City. The soundtrack for Chennai Express was composed by Vishal–Shekhar, with the background score being composed by Amar Mohile. UTV Motion Pictures came on board as producer and distributor, marking its first active project with Khan after Swades (2004).\n",
            "Chennai Express was released theatrically in international markets on 8 August 2013 and a day later in India. The film received \u001b[0m\n",
            "Thought:\u001b[32;1m\u001b[1;3mDo I need to use a tool? No\n",
            "\n",
            "AI: Chennai, officially known as Chennai, is the capital and largest city of the Indian state of Tamil Nadu. It is located on the Coromandel Coast of the Bay of Bengal. According to the 2011 Indian census, Chennai is the sixth-most populous city in India and forms the fourth-most populous urban agglomeration. The city is classified into three regions: North Chennai, Central Chennai and South Chennai, and is further divided into 15 zones, consisting of 200 wards. It is a major center for medical tourism and is termed \"India's health capital\". Chennai is also known as the \"Detroit of India\" due to its major portion of India's automobile industry. It was ranked ninth on Lonely Planet's best cosmopolitan cities in the world in 2015. Chennai is also a major film production center and home to the Tamil-language film industry. The city is known for its rich history and culture, and is a popular destination for tourists from around the world.\u001b[0m\n",
            "\n",
            "\u001b[1m> Finished chain.\u001b[0m\n",
            "Chennai, officially known as Chennai, is the capital and largest city of the Indian state of Tamil Nadu. It is located on the Coromandel Coast of the Bay of Bengal. According to the 2011 Indian census, Chennai is the sixth-most populous city in India and forms the fourth-most populous urban agglomeration. The city is classified into three regions: North Chennai, Central Chennai and South Chennai, and is further divided into 15 zones, consisting of 200 wards. It is a major center for medical tourism and is termed \"India's health capital\". Chennai is also known as the \"Detroit of India\" due to its major portion of India's automobile industry. It was ranked ninth on Lonely Planet's best cosmopolitan cities in the world in 2015. Chennai is also a major film production center and home to the Tamil-language film industry. The city is known for its rich history and culture, and is a popular destination for tourists from around the world.\n"
          ]
        }
      ]
    }
  ]
}